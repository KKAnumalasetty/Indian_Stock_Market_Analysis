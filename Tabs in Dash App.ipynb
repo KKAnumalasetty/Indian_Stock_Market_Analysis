{
 "cells": [
  {
   "cell_type": "code",
   "execution_count": null,
   "metadata": {
    "ExecuteTime": {
     "start_time": "2020-06-20T19:53:20.216Z"
    }
   },
   "outputs": [
    {
     "name": "stdout",
     "output_type": "stream",
     "text": [
      "Dash is running on http://127.0.0.1:8050/\n",
      "\n",
      "Dash is running on http://127.0.0.1:8050/\n",
      "\n",
      "Dash is running on http://127.0.0.1:8050/\n",
      "\n",
      " Warning: This is a development server. Do not use app.run_server\n",
      " Warning: This is a development server. Do not use app.run_server\n",
      " Warning: This is a development server. Do not use app.run_server\n",
      " in production, use a production WSGI server like gunicorn instead.\n",
      "\n",
      " in production, use a production WSGI server like gunicorn instead.\n",
      "\n",
      " in production, use a production WSGI server like gunicorn instead.\n",
      "\n",
      " * Serving Flask app \"__main__\" (lazy loading)\n",
      " * Environment: production\n",
      "   WARNING: This is a development server. Do not use it in a production deployment.\n",
      "   Use a production WSGI server instead.\n",
      " * Debug mode: on\n"
     ]
    }
   ],
   "source": [
    "import dash\n",
    "import dash_html_components as html\n",
    "import dash_core_components as dcc\n",
    "from dash.dependencies import Input, Output\n",
    "\n",
    "\n",
    "app = dash.Dash()\n",
    "\n",
    "\n",
    "# Create a Dash layout\n",
    "app.layout = html.Div([\n",
    "    html.Div(\n",
    "        html.H1('My Dashboard')\n",
    "    ),\n",
    "    dcc.Tabs(id='tabs', value='Tab1', children=[\n",
    "        dcc.Tab(label='Tab 1', id='tab1', value='Tab1', children =[\n",
    "        ]),\n",
    "        dcc.Tab(label='Tab 2', id='tab2', value='Tab2', children=[\n",
    "        ])\n",
    "    ])\n",
    "])\n",
    "\n",
    "@app.callback(Output('tab1', 'children'),\n",
    "              [Input('tabs', 'value')])\n",
    "def update_tabs(value):\n",
    "    if value == 'Tab1':\n",
    "        return dcc.Tabs(id=\"subtabs1\", value='Subtab1', children=[\n",
    "            dcc.Tab(label='Subtab 1', id='subtab1', value='Subtab1'),\n",
    "            dcc.Tab(label='Subtab 2', id='subtab2', value='Subtab2'),\n",
    "        ]),\n",
    "\n",
    "@app.callback(Output('tab2', 'children'),\n",
    "              [Input('tabs', 'value')])\n",
    "def update_tabs(value):\n",
    "    if value == 'Tab2':\n",
    "        return dcc.Tabs(id=\"subtabs2\", value='Subtab4', children=[\n",
    "            dcc.Tab(label='Subtab 4', id='subtab4', value='Subtab4'),\n",
    "            dcc.Tab(label='Subtab 5', id='subtab5', value='Subtab5')\n",
    "        ]),\n",
    "\n",
    "if __name__ == '__main__':\n",
    "    app.run_server(debug=True,use_reloader=False)"
   ]
  }
 ],
 "metadata": {
  "kernelspec": {
   "display_name": "Python 3",
   "language": "python",
   "name": "python3"
  },
  "language_info": {
   "codemirror_mode": {
    "name": "ipython",
    "version": 3
   },
   "file_extension": ".py",
   "mimetype": "text/x-python",
   "name": "python",
   "nbconvert_exporter": "python",
   "pygments_lexer": "ipython3",
   "version": "3.7.4"
  },
  "toc": {
   "base_numbering": 1,
   "nav_menu": {},
   "number_sections": true,
   "sideBar": true,
   "skip_h1_title": false,
   "title_cell": "Table of Contents",
   "title_sidebar": "Contents",
   "toc_cell": false,
   "toc_position": {},
   "toc_section_display": true,
   "toc_window_display": false
  }
 },
 "nbformat": 4,
 "nbformat_minor": 2
}
